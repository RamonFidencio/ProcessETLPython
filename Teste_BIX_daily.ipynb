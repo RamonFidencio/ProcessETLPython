{
 "cells": [
  {
   "cell_type": "code",
   "execution_count": 16,
   "metadata": {},
   "outputs": [],
   "source": [
    "import psycopg2 as db\n",
    "import pandas as pd\n",
    "#não é a melhor pratica expor os dados de conexão. Mas aqui serão expostas pois é um dado de conhecimento comum."
   ]
  },
  {
   "cell_type": "markdown",
   "metadata": {},
   "source": [
    "# Trazendo as tabelas categoria e funcionario"
   ]
  },
  {
   "cell_type": "code",
   "execution_count": 17,
   "metadata": {},
   "outputs": [
    {
     "name": "stdout",
     "output_type": "stream",
     "text": [
      "Connection established\n"
     ]
    },
    {
     "data": {
      "text/html": [
       "<div>\n",
       "<style scoped>\n",
       "    .dataframe tbody tr th:only-of-type {\n",
       "        vertical-align: middle;\n",
       "    }\n",
       "\n",
       "    .dataframe tbody tr th {\n",
       "        vertical-align: top;\n",
       "    }\n",
       "\n",
       "    .dataframe thead th {\n",
       "        text-align: right;\n",
       "    }\n",
       "</style>\n",
       "<table border=\"1\" class=\"dataframe\">\n",
       "  <thead>\n",
       "    <tr style=\"text-align: right;\">\n",
       "      <th></th>\n",
       "      <th>id_categoria</th>\n",
       "      <th>nome_categoria</th>\n",
       "    </tr>\n",
       "  </thead>\n",
       "  <tbody>\n",
       "    <tr>\n",
       "      <th>0</th>\n",
       "      <td>1</td>\n",
       "      <td>Babywear</td>\n",
       "    </tr>\n",
       "    <tr>\n",
       "      <th>1</th>\n",
       "      <td>2</td>\n",
       "      <td>Womens wear</td>\n",
       "    </tr>\n",
       "    <tr>\n",
       "      <th>2</th>\n",
       "      <td>3</td>\n",
       "      <td>Womens Footwear</td>\n",
       "    </tr>\n",
       "    <tr>\n",
       "      <th>3</th>\n",
       "      <td>4</td>\n",
       "      <td>Sportwear</td>\n",
       "    </tr>\n",
       "    <tr>\n",
       "      <th>4</th>\n",
       "      <td>5</td>\n",
       "      <td>Mens Clothes</td>\n",
       "    </tr>\n",
       "    <tr>\n",
       "      <th>5</th>\n",
       "      <td>6</td>\n",
       "      <td>Bath Clothes</td>\n",
       "    </tr>\n",
       "    <tr>\n",
       "      <th>6</th>\n",
       "      <td>7</td>\n",
       "      <td>Mens Footwear</td>\n",
       "    </tr>\n",
       "    <tr>\n",
       "      <th>7</th>\n",
       "      <td>8</td>\n",
       "      <td>Childrens wear</td>\n",
       "    </tr>\n",
       "  </tbody>\n",
       "</table>\n",
       "</div>"
      ],
      "text/plain": [
       "   id_categoria   nome_categoria\n",
       "0             1         Babywear\n",
       "1             2      Womens wear\n",
       "2             3  Womens Footwear\n",
       "3             4        Sportwear\n",
       "4             5     Mens Clothes\n",
       "5             6     Bath Clothes\n",
       "6             7    Mens Footwear\n",
       "7             8   Childrens wear"
      ]
     },
     "metadata": {},
     "output_type": "display_data"
    },
    {
     "data": {
      "text/html": [
       "<div>\n",
       "<style scoped>\n",
       "    .dataframe tbody tr th:only-of-type {\n",
       "        vertical-align: middle;\n",
       "    }\n",
       "\n",
       "    .dataframe tbody tr th {\n",
       "        vertical-align: top;\n",
       "    }\n",
       "\n",
       "    .dataframe thead th {\n",
       "        text-align: right;\n",
       "    }\n",
       "</style>\n",
       "<table border=\"1\" class=\"dataframe\">\n",
       "  <thead>\n",
       "    <tr style=\"text-align: right;\">\n",
       "      <th></th>\n",
       "      <th>id_funcionario</th>\n",
       "      <th>nome_funcionario</th>\n",
       "    </tr>\n",
       "  </thead>\n",
       "  <tbody>\n",
       "    <tr>\n",
       "      <th>0</th>\n",
       "      <td>1</td>\n",
       "      <td>Rob Carsson</td>\n",
       "    </tr>\n",
       "    <tr>\n",
       "      <th>1</th>\n",
       "      <td>2</td>\n",
       "      <td>Eli Preston</td>\n",
       "    </tr>\n",
       "    <tr>\n",
       "      <th>2</th>\n",
       "      <td>3</td>\n",
       "      <td>Tom Lindwall</td>\n",
       "    </tr>\n",
       "    <tr>\n",
       "      <th>3</th>\n",
       "      <td>4</td>\n",
       "      <td>Leif Shine</td>\n",
       "    </tr>\n",
       "    <tr>\n",
       "      <th>4</th>\n",
       "      <td>5</td>\n",
       "      <td>Ingrid Hendrix</td>\n",
       "    </tr>\n",
       "    <tr>\n",
       "      <th>5</th>\n",
       "      <td>6</td>\n",
       "      <td>Lennart Skoglund</td>\n",
       "    </tr>\n",
       "    <tr>\n",
       "      <th>6</th>\n",
       "      <td>7</td>\n",
       "      <td>Rock Rollman</td>\n",
       "    </tr>\n",
       "    <tr>\n",
       "      <th>7</th>\n",
       "      <td>8</td>\n",
       "      <td>Helen Brolin</td>\n",
       "    </tr>\n",
       "    <tr>\n",
       "      <th>8</th>\n",
       "      <td>9</td>\n",
       "      <td>Joan Callins</td>\n",
       "    </tr>\n",
       "  </tbody>\n",
       "</table>\n",
       "</div>"
      ],
      "text/plain": [
       "   id_funcionario  nome_funcionario\n",
       "0               1       Rob Carsson\n",
       "1               2       Eli Preston\n",
       "2               3      Tom Lindwall\n",
       "3               4        Leif Shine\n",
       "4               5    Ingrid Hendrix\n",
       "5               6  Lennart Skoglund\n",
       "6               7      Rock Rollman\n",
       "7               8      Helen Brolin\n",
       "8               9      Joan Callins"
      ]
     },
     "metadata": {},
     "output_type": "display_data"
    }
   ],
   "source": [
    "conn = db.connect( \n",
    "    host=\"#####\",\n",
    "    user=\"#####\",\n",
    "    dbname=\"#####\",\n",
    "    password=\"######\")\n",
    "print(\"Connection established\") \n",
    "categoria= pd.read_sql_query(\"SELECT * FROM public.categoria\",conn)\n",
    "funcionario= pd.read_sql_query(\"SELECT * FROM public.funcionario\",conn)\n",
    "#Normalizando as tabelas\n",
    "categoria.rename(columns={'id':'id_categoria'},inplace=True)\n",
    "funcionario.rename(columns={'id':'id_funcionario'},inplace=True)\n",
    "\n",
    "display(categoria, funcionario)"
   ]
  },
  {
   "cell_type": "markdown",
   "metadata": {},
   "source": [
    "# Conectando a Instancia_C e trazendo o maior id de venda"
   ]
  },
  {
   "cell_type": "code",
   "execution_count": 18,
   "metadata": {},
   "outputs": [
    {
     "name": "stdout",
     "output_type": "stream",
     "text": [
      "   id_venda  data_venda  venda nome_funcionario  nome_categoria\n",
      "0      1025  2022-02-20   9998     Joan Callins  Childrens wear\n"
     ]
    }
   ],
   "source": [
    "conn = db.connect( \n",
    "    host=\"#####\",\n",
    "    user=\"#####\",\n",
    "    dbname=\"#####\",\n",
    "    password=\"######\")\n",
    "ultima_venda_C = pd.read_sql_query(\"SELECT * FROM vendas_funcionario WHERE id_venda = ( SELECT MAX (id_venda) FROM vendas_funcionario);\",conn)\n",
    "print(ultima_venda_C)\n"
   ]
  },
  {
   "cell_type": "markdown",
   "metadata": {},
   "source": [
    "## Conectando na instancia_A e trazendo as novas vendas, com 'id_venda' maior do que os que estão registrados"
   ]
  },
  {
   "cell_type": "code",
   "execution_count": 19,
   "metadata": {},
   "outputs": [
    {
     "name": "stdout",
     "output_type": "stream",
     "text": [
      "Connection established\n"
     ]
    },
    {
     "data": {
      "text/html": [
       "<div>\n",
       "<style scoped>\n",
       "    .dataframe tbody tr th:only-of-type {\n",
       "        vertical-align: middle;\n",
       "    }\n",
       "\n",
       "    .dataframe tbody tr th {\n",
       "        vertical-align: top;\n",
       "    }\n",
       "\n",
       "    .dataframe thead th {\n",
       "        text-align: right;\n",
       "    }\n",
       "</style>\n",
       "<table border=\"1\" class=\"dataframe\">\n",
       "  <thead>\n",
       "    <tr style=\"text-align: right;\">\n",
       "      <th></th>\n",
       "      <th>id_venda</th>\n",
       "      <th>data_venda</th>\n",
       "      <th>venda</th>\n",
       "      <th>nome_funcionario</th>\n",
       "      <th>nome_categoria</th>\n",
       "    </tr>\n",
       "  </thead>\n",
       "  <tbody>\n",
       "  </tbody>\n",
       "</table>\n",
       "</div>"
      ],
      "text/plain": [
       "Empty DataFrame\n",
       "Columns: [id_venda, data_venda, venda, nome_funcionario, nome_categoria]\n",
       "Index: []"
      ]
     },
     "metadata": {},
     "output_type": "display_data"
    }
   ],
   "source": [
    "\n",
    "conn = db.connect( \n",
    "    host=\"#####\",\n",
    "    user=\"#####\",\n",
    "    dbname=\"#####\",\n",
    "    password=\"######\")\n",
    "print(\"Connection established\") \n",
    "vendas = pd.read_sql_query((f\"SELECT *FROM public.venda WHERE id_venda > {int(ultima_venda_C['id_venda'])}\"),conn)\n",
    "vendas = vendas.merge(categoria,how='left',on='id_categoria')\n",
    "vendas = vendas.merge(funcionario,how='left',on='id_funcionario')\n",
    "vendas = vendas.loc[:,['id_venda','data_venda','venda','nome_funcionario','nome_categoria']]\n",
    "display(vendas)"
   ]
  },
  {
   "cell_type": "markdown",
   "metadata": {},
   "source": [
    "# Conectando na Instancia_C para gravar os novos registros"
   ]
  },
  {
   "cell_type": "code",
   "execution_count": 20,
   "metadata": {},
   "outputs": [
    {
     "name": "stdout",
     "output_type": "stream",
     "text": [
      "Connection established\n",
      "Empty DataFrame\n",
      "Columns: [id_venda, data_venda, venda, nome_funcionario, nome_categoria]\n",
      "Index: []\n"
     ]
    }
   ],
   "source": [
    "conn = db.connect( \n",
    "    host=\"#####\",\n",
    "    user=\"#####\",\n",
    "    dbname=\"#####\",\n",
    "    password=\"######\")\n",
    "print(\"Connection established\") \n",
    "cursor_C = conn.cursor() \n",
    "'''\n",
    "for index, row in vendas.iterrows():\n",
    "    print\n",
    "    cursor_C.execute(\"INSERT INTO public.vendas_funcionario(id_venda, data_venda, venda, nome_funcionario, nome_categoria) VALUES(%s,%s,%s,%s,%s)\",(row.id_venda, row.data_venda, row.venda,row.nome_funcionario,row.nome_categoria))\n",
    "conn.commit()\n",
    "cursor_C.close()\n",
    "print('Done!')\n",
    "'''\n",
    "print(vendas)"
   ]
  }
 ],
 "metadata": {
  "interpreter": {
   "hash": "7b4b4feff2f24a0f0a34464dbe537a36fda679851528fb8735cb41fa49dffb2d"
  },
  "kernelspec": {
   "display_name": "Python 3.9.7 ('base')",
   "language": "python",
   "name": "python3"
  },
  "language_info": {
   "codemirror_mode": {
    "name": "ipython",
    "version": 3
   },
   "file_extension": ".py",
   "mimetype": "text/x-python",
   "name": "python",
   "nbconvert_exporter": "python",
   "pygments_lexer": "ipython3",
   "version": "3.9.7"
  },
  "orig_nbformat": 4
 },
 "nbformat": 4,
 "nbformat_minor": 2
}
